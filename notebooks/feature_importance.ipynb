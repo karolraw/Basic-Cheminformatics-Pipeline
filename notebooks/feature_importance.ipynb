{
  "cells": [
    {
      "cell_type": "code",
      "metadata": {},
      "source": [
        "import subprocess\n",
        "import sys\n",
        "def install_if_missing(package):\n",
        "  try:\n",
        "    __import__(package)\n",
        "  except ImportError:\n",
        "    print(f\"{package} not found. Installing...\")\n",
        "    subprocess.check_call([sys.executable, \"-m\", \"pip\", \"install\", package])\n",
        "\n",
        "required_packages = [\"matplotlib\", \"seaborn\", \"numpy\", \"pandas\"]\n",
        "\n",
        "for package in required_packages:\n",
        "  install_if_missing(package)\n",
        "\n",
        "import joblib\n",
        "import pandas as pd\n",
        "import numpy as np\n",
        "import matplotlib.pyplot as plt\n",
        "import seaborn as sns\n",
        "import os\n",
        "\n",
        "#Make sure it runs from the root directory\n",
        "project_root = os.path.abspath(os.path.join(os.path.dirname(__file__), \"../../\"))\n",
        "os.chdir(project_root)\n",
        "\n",
        "#Specify location of the model and load it\n",
        "model_path = \"models/random_forest.pkl\"\n",
        "data_path = \"data/processed/egfr_features.csv\"\n",
        "print(\"Loading model...\")\n",
        "rf_model = joblib.load(model_path)\n",
        "df = pd.read_csv(data_path)\n",
        "\n",
        "#Drop the non-fingerprint columns for feature importance checking\n",
        "X = df.iloc[:,11:]\n",
        "\n",
        "#Get the feature importance and show the top 20\n",
        "feature_importance = rf_model.feature_importances_\n",
        "top_n = 20\n",
        "\n",
        "#Plot the data for visualization\n",
        "plt.figure(figsize=(10,6))\n",
        "sns.barplot(x=feature_importance[top_indices], y=[f\"Feature {i}\" for i in top_indices])\n",
        "plt.xlabel(\"Feature importance score\")\n",
        "plt.ylabel(\"Top features\")\n",
        "plt.title(\"Top 20 Important Features in Random Forest\")\n",
        "plt.show()\n",
        "\n",
        "\n"
      ],
      "outputs": [],
      "execution_count": null
    }
  ],
  "metadata": {
    "anaconda-cloud": {},
    "kernelspec": {
      "display_name": "Python 3",
      "language": "python",
      "name": "python3"
    },
    "language_info": {
      "codemirror_mode": {
        "name": "ipython",
        "version": 3
      },
      "file_extension": ".py",
      "mimetype": "text/x-python",
      "name": "python",
      "nbconvert_exporter": "python",
      "pygments_lexer": "ipython3",
      "version": "3.6.1"
    }
  },
  "nbformat": 4,
  "nbformat_minor": 4
}