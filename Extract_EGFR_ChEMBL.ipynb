{
 "cells": [
  {
   "cell_type": "code",
   "execution_count": 2,
   "id": "1e4b0410-3fe5-422e-8dcf-2bd0a040883f",
   "metadata": {},
   "outputs": [],
   "source": [
    "#Install required dependencies\n",
    "#pip install chembl_webresource_client\n",
    "#pip install pandas"
   ]
  },
  {
   "cell_type": "code",
   "execution_count": 1,
   "id": "67cc30b4-b387-43bb-9c91-cb73e1572bab",
   "metadata": {},
   "outputs": [],
   "source": [
    "from chembl_webresource_client.new_client import new_client\n",
    "import pandas as pd\n",
    "import numpy as np"
   ]
  },
  {
   "cell_type": "code",
   "execution_count": 4,
   "id": "9b6a3702-d32f-41b1-be99-0c0e81555bc8",
   "metadata": {},
   "outputs": [],
   "source": [
    "target = new_client.target\n",
    "#Set EGFR as the target. Multiple available EGFR targets in the database so we specify explicitly\n",
    "target_id=\"CHEMBL203\"\n",
    "\n",
    "#Pull bioactivity data\n",
    "activity = new_client.activity.filter(target_chembl_id=target_id)\n",
    "\n",
    "#Convert activity data to a dataframe\n",
    "df = pd.DataFrame(activity)\n",
    "\n",
    "#Keep the relevant info\n",
    "df = df[['molecule_chembl_id','canonical_smiles','standard_type','standard_value','standard_units']]\n",
    "\n",
    "#Only want IC50, Ki, Kd values in nm\n",
    "df = df[df['standard_type'].isin(['IC50','Ki','Kd'])]\n",
    "df = df[df['standard_units'] == 'nM']"
   ]
  },
  {
   "cell_type": "code",
   "execution_count": null,
   "id": "3bcdbd0c-c7b9-4d3a-9fb1-c4009a33a309",
   "metadata": {},
   "outputs": [],
   "source": [
    "#Check to make sure we have a populated dataframe\n",
    "#df.shape"
   ]
  },
  {
   "cell_type": "code",
   "execution_count": 5,
   "id": "b37331a2-d59d-47fe-b289-c0cf0d94cce9",
   "metadata": {},
   "outputs": [],
   "source": [
    "#Save to a csv\n",
    "df.to_csv('egfr_bioactivity_full.csv', index=False)"
   ]
  },
  {
   "cell_type": "code",
   "execution_count": null,
   "id": "5981742e-f7db-4e0f-be23-c3241422d42f",
   "metadata": {},
   "outputs": [],
   "source": []
  }
 ],
 "metadata": {
  "kernelspec": {
   "display_name": "Python 3 (ipykernel)",
   "language": "python",
   "name": "python3"
  },
  "language_info": {
   "codemirror_mode": {
    "name": "ipython",
    "version": 3
   },
   "file_extension": ".py",
   "mimetype": "text/x-python",
   "name": "python",
   "nbconvert_exporter": "python",
   "pygments_lexer": "ipython3",
   "version": "3.11.11"
  }
 },
 "nbformat": 4,
 "nbformat_minor": 5
}
